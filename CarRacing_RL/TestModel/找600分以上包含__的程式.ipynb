{
  "nbformat": 4,
  "nbformat_minor": 0,
  "metadata": {
    "colab": {
      "provenance": []
    },
    "kernelspec": {
      "name": "python3",
      "display_name": "Python 3"
    },
    "language_info": {
      "name": "python"
    }
  },
  "cells": [
    {
      "cell_type": "code",
      "source": [
        "from google.colab import drive\n",
        "drive.mount('/content/drive')"
      ],
      "metadata": {
        "colab": {
          "base_uri": "https://localhost:8080/"
        },
        "id": "TfddZVmDBZ6C",
        "outputId": "ea30012c-e9a9-43b8-f206-33c3d09daef2"
      },
      "execution_count": null,
      "outputs": [
        {
          "output_type": "stream",
          "name": "stdout",
          "text": [
            "Drive already mounted at /content/drive; to attempt to forcibly remount, call drive.mount(\"/content/drive\", force_remount=True).\n"
          ]
        }
      ]
    },
    {
      "cell_type": "code",
      "source": [
        "import numpy as np"
      ],
      "metadata": {
        "id": "KvXiFWJ7BpDH"
      },
      "execution_count": null,
      "outputs": []
    },
    {
      "cell_type": "markdown",
      "source": [
        "## 衰減策略"
      ],
      "metadata": {
        "id": "fP1gUTkBAO4v"
      }
    },
    {
      "cell_type": "code",
      "execution_count": null,
      "metadata": {
        "id": "YnyP6FuHBUbQ"
      },
      "outputs": [],
      "source": [
        "All_Log_Linear = []\n",
        "for i in range(1,11):\n",
        "  dir = f\"/content/drive/MyDrive/線性衰減/線性{i}/Log-5000.npy\"\n",
        "  Log_item = np.load(dir, allow_pickle=True).item()\n",
        "  All_Log_Linear.append(Log_item[\"TestReward\"])"
      ]
    },
    {
      "cell_type": "code",
      "source": [
        "s_list=[12,10,9,8,7.5,7,6.5,6,5.5,4.5]\n",
        "All_Log_exp = []\n",
        "for i in range(10):\n",
        "  dir = f\"/content/drive/MyDrive/指數衰減/指數{s_list[i]}/Log-5000.npy\"\n",
        "  Log_item = np.load(dir, allow_pickle=True).item()\n",
        "  All_Log_exp.append(Log_item[\"TestReward\"])"
      ],
      "metadata": {
        "id": "5LKm8erIBuT3"
      },
      "execution_count": null,
      "outputs": []
    },
    {
      "cell_type": "code",
      "source": [
        "percent_Linear = []\n",
        "for i in range(10):\n",
        "  tem_Log_Linear = All_Log_Linear[i]\n",
        "  count = 0\n",
        "  for j in range(len(tem_Log_Linear)):\n",
        "    if tem_Log_Linear[j]>=600: count += 1\n",
        "  percent_Linear.append(count/len(tem_Log_Linear))"
      ],
      "metadata": {
        "id": "go9nGrRPCOnq"
      },
      "execution_count": null,
      "outputs": []
    },
    {
      "cell_type": "code",
      "source": [
        "percent_exp = []\n",
        "for i in range(10):\n",
        "  tem_Log_exp = All_Log_exp[i]\n",
        "  count = 0\n",
        "  for j in range(len(tem_Log_exp)):\n",
        "    if tem_Log_exp[j]>=600: count += 1\n",
        "  percent_exp.append(count/len(tem_Log_exp))"
      ],
      "metadata": {
        "id": "MwcMpPnsC7E6"
      },
      "execution_count": null,
      "outputs": []
    },
    {
      "cell_type": "code",
      "source": [
        "print(f\"參數 x ：per %\\n\")\n",
        "for i in range(10):\n",
        "  print(\"參數 {}：{:.1f} %\".format(i+1, percent_Linear[i]*100))\n",
        "print()\n",
        "for i in range(10):\n",
        "  print(\"參數 {}：{:.1f} %\".format(s_list[i], percent_exp[i]*100))"
      ],
      "metadata": {
        "colab": {
          "base_uri": "https://localhost:8080/"
        },
        "id": "lsU1QF-5DFLm",
        "outputId": "e90df3c8-7670-4840-8000-fd4021651581"
      },
      "execution_count": null,
      "outputs": [
        {
          "output_type": "stream",
          "name": "stdout",
          "text": [
            "參數 x ：per %\n",
            "\n",
            "參數 1：51.4 %\n",
            "參數 2：47.8 %\n",
            "參數 3：47.4 %\n",
            "參數 4：39.6 %\n",
            "參數 5：36.0 %\n",
            "參數 6：32.2 %\n",
            "參數 7：0.2 %\n",
            "參數 8：18.8 %\n",
            "參數 9：13.6 %\n",
            "參數 10：9.8 %\n",
            "\n",
            "參數 12：55.6 %\n",
            "參數 10：46.0 %\n",
            "參數 9：52.2 %\n",
            "參數 8：51.8 %\n",
            "參數 7.5：49.0 %\n",
            "參數 7：45.6 %\n",
            "參數 6.5：50.8 %\n",
            "參數 6：38.4 %\n",
            "參數 5.5：39.0 %\n",
            "參數 4.5：39.6 %\n"
          ]
        }
      ]
    },
    {
      "cell_type": "markdown",
      "source": [
        "## DQNs"
      ],
      "metadata": {
        "id": "i6nn7VsLARmI"
      }
    },
    {
      "cell_type": "code",
      "source": [
        "dqn_info = \"無VAE\""
      ],
      "metadata": {
        "id": "v9SLSSYbHYK_"
      },
      "execution_count": null,
      "outputs": []
    },
    {
      "cell_type": "code",
      "source": [
        "All_Log = []\n",
        "dqns = [\"DQN\",\"DoubleDQN\",\"DuelingDQN\"]\n",
        "for i in range(3):\n",
        "  dir = f\"/content/drive/MyDrive/DQN們/{dqns[i]}_{dqn_info}/Log-5000.npy\"\n",
        "  Log_item = np.load(dir, allow_pickle=True).item()\n",
        "  All_Log.append(Log_item[\"TrainReward\"])\n",
        "  All_Log.append(Log_item[\"TestReward\"])"
      ],
      "metadata": {
        "id": "gd_Er3fYDmCs"
      },
      "execution_count": null,
      "outputs": []
    },
    {
      "cell_type": "code",
      "source": [
        "percent = []\n",
        "for i in range(3 *2):\n",
        "  tem_Log = All_Log[i]\n",
        "  count = 0\n",
        "  for j in range(len(tem_Log)):\n",
        "    if tem_Log[j]>=600: count += 1\n",
        "  percent.append(count/len(tem_Log))"
      ],
      "metadata": {
        "id": "8r296uncA0fv"
      },
      "execution_count": null,
      "outputs": []
    },
    {
      "cell_type": "code",
      "source": [
        "print(dqn_info)\n",
        "print(\"\\nDQN種類：訓練 %, 測試 %\")\n",
        "for i in range(3):\n",
        "  print(\"{}：{:.1f} %, {:.1f} %\".format(dqns[i], percent[i]*100, percent[i+1]*100))"
      ],
      "metadata": {
        "colab": {
          "base_uri": "https://localhost:8080/"
        },
        "id": "_fy1cpVDBczH",
        "outputId": "08b7c2b9-fac4-4cef-ef4c-480aa5338409"
      },
      "execution_count": null,
      "outputs": [
        {
          "output_type": "stream",
          "name": "stdout",
          "text": [
            "無VAE\n",
            "\n",
            "DQN種類：訓練 %, 測試 %\n",
            "DQN：13.4 %, 17.2 %\n",
            "DoubleDQN：17.2 %, 14.0 %\n",
            "DuelingDQN：14.0 %, 21.4 %\n"
          ]
        }
      ]
    },
    {
      "cell_type": "code",
      "source": [],
      "metadata": {
        "id": "eTQUncKCBmkf"
      },
      "execution_count": null,
      "outputs": []
    }
  ]
}