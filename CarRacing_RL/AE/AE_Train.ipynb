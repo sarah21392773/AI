{
  "cells": [
    {
      "cell_type": "markdown",
      "id": "a0a79165-9626-4303-8e6e-e32704db68c3",
      "metadata": {
        "id": "a0a79165-9626-4303-8e6e-e32704db68c3"
      },
      "source": [
        "# import site-package"
      ]
    },
    {
      "cell_type": "code",
      "execution_count": null,
      "id": "6f3c18e5-cf1f-4dd7-858c-1aea90a99222",
      "metadata": {
        "id": "6f3c18e5-cf1f-4dd7-858c-1aea90a99222",
        "outputId": "854aa785-5991-4d5d-ca7f-cf13b14c1683"
      },
      "outputs": [],
      "source": [
        "import torch\n",
        "import torch.nn as nn\n",
        "import torch.optim as optim\n",
        "from torch.utils.data import Dataset, DataLoader\n",
        "from torchvision import datasets, transforms\n",
        "import matplotlib.pyplot as plt\n",
        "from tqdm import tqdm\n",
        "import numpy as np\n",
        "from torchvision.datasets import ImageFolder\n",
        "import os"
      ]
    },
    {
      "cell_type": "markdown",
      "id": "64be8b28-75b7-476b-af72-783de76ef6ee",
      "metadata": {
        "id": "64be8b28-75b7-476b-af72-783de76ef6ee"
      },
      "source": [
        "# Class Dataset"
      ]
    },
    {
      "cell_type": "code",
      "execution_count": null,
      "id": "895eb5b7-78ca-40d6-b554-c5782e53df7f",
      "metadata": {
        "id": "895eb5b7-78ca-40d6-b554-c5782e53df7f"
      },
      "outputs": [],
      "source": [
        "class CarRacingDataset(Dataset):\n",
        "    def __init__(self, npy_file):\n",
        "        self.data = np.load(npy_file)\n",
        "\n",
        "    def __len__(self):\n",
        "        return len(self.data)\n",
        "\n",
        "    def __getitem__(self, idx):\n",
        "        sample = self.data[idx]\n",
        "        sample = torch.tensor(sample, dtype=torch.float32)\n",
        "        return sample"
      ]
    },
    {
      "cell_type": "markdown",
      "id": "a29687e1-a8da-48c8-8b76-7c30de847d35",
      "metadata": {
        "id": "a29687e1-a8da-48c8-8b76-7c30de847d35"
      },
      "source": [
        "# Class AE"
      ]
    },
    {
      "cell_type": "markdown",
      "id": "737a17d7-a99e-4883-be33-62b38d0c21c8",
      "metadata": {
        "id": "737a17d7-a99e-4883-be33-62b38d0c21c8"
      },
      "source": [
        "### Encoder"
      ]
    },
    {
      "cell_type": "code",
      "execution_count": null,
      "id": "a735624d-2254-437d-b283-50314a515699",
      "metadata": {
        "id": "a735624d-2254-437d-b283-50314a515699"
      },
      "outputs": [],
      "source": [
        "class AEEncoder(nn.Module):\n",
        "    def __init__(self, input_size, hidden_size, latent_size):\n",
        "        super().__init__()\n",
        "        self.fc1 = nn.Linear(input_size, hidden_size)\n",
        "        self.fc2 = nn.Linear(hidden_size, latent_size*2)\n",
        "\n",
        "    def forward(self, x):\n",
        "        z = self.fc2(torch.relu(self.fc1(x)))\n",
        "        return z"
      ]
    },
    {
      "cell_type": "markdown",
      "id": "9b27840e-9093-42b0-be3f-cec4548214c2",
      "metadata": {
        "id": "9b27840e-9093-42b0-be3f-cec4548214c2"
      },
      "source": [
        "### Decoder"
      ]
    },
    {
      "cell_type": "code",
      "execution_count": null,
      "id": "74f8173b-a8a7-4240-b4aa-30c7dcd16615",
      "metadata": {
        "id": "74f8173b-a8a7-4240-b4aa-30c7dcd16615"
      },
      "outputs": [],
      "source": [
        "class AEDecoder(nn.Module):\n",
        "    def __init__(self, latent_size, hidden_size, output_size):\n",
        "        super().__init__()\n",
        "        self.fc1 = nn.Linear(latent_size, hidden_size)\n",
        "        self.fc2 = nn.Linear(hidden_size, output_size)\n",
        "\n",
        "    def forward(self, x):\n",
        "        x = torch.sigmoid( self.fc2( torch.relu(self.fc1(x)) ) )\n",
        "        return x"
      ]
    },
    {
      "cell_type": "markdown",
      "id": "80e7d568-d2ab-4b1c-9bdc-13afb44b151f",
      "metadata": {
        "id": "80e7d568-d2ab-4b1c-9bdc-13afb44b151f"
      },
      "source": [
        "### AE Module"
      ]
    },
    {
      "cell_type": "code",
      "execution_count": null,
      "id": "b99515a0-436f-4274-a818-dbff8905cae2",
      "metadata": {
        "id": "b99515a0-436f-4274-a818-dbff8905cae2"
      },
      "outputs": [],
      "source": [
        "class AE(nn.Module):\n",
        "    def __init__(self, input_size, hidden_size, latent_size):\n",
        "        super().__init__()\n",
        "        self.encoder = AEEncoder(input_size, hidden_size, latent_size)\n",
        "        self.decoder = AEDecoder(latent_size, hidden_size, input_size)\n",
        "\n",
        "    def forward(self, x):\n",
        "        z = self.encoder(x)\n",
        "        reconstruct = self.decoder(z)\n",
        "        return reconstruct, z"
      ]
    },
    {
      "cell_type": "markdown",
      "id": "46def30d-b90b-46c3-8953-0b7c6c43e105",
      "metadata": {
        "id": "46def30d-b90b-46c3-8953-0b7c6c43e105"
      },
      "source": [
        "### loss function"
      ]
    },
    {
      "cell_type": "code",
      "execution_count": null,
      "id": "f0811942-0d99-4f9f-bdae-7d375d13e108",
      "metadata": {
        "id": "f0811942-0d99-4f9f-bdae-7d375d13e108"
      },
      "outputs": [],
      "source": [
        "def AE_Loss(reconstruct, x):\n",
        "    return nn.MSELoss(reduction='sum')(reconstruct, x)"
      ]
    },
    {
      "cell_type": "markdown",
      "id": "353ed159-b5cf-4c74-8a13-ea3d288207f5",
      "metadata": {
        "id": "353ed159-b5cf-4c74-8a13-ea3d288207f5"
      },
      "source": [
        "# Start Traning"
      ]
    },
    {
      "cell_type": "markdown",
      "id": "15d91e9b-1e84-49eb-ab09-894adf3001e3",
      "metadata": {
        "id": "15d91e9b-1e84-49eb-ab09-894adf3001e3"
      },
      "source": [
        "### Load Dataset"
      ]
    },
    {
      "cell_type": "code",
      "execution_count": null,
      "id": "7b22ad6a-af76-4280-8384-3ac88165aee8",
      "metadata": {
        "id": "7b22ad6a-af76-4280-8384-3ac88165aee8"
      },
      "outputs": [],
      "source": [
        "dataset = CarRacingDataset(\"car_racing_states_2.npy\")\n",
        "dataloader = DataLoader(dataset, batch_size=64, shuffle=True)"
      ]
    },
    {
      "cell_type": "code",
      "execution_count": null,
      "id": "4e42f0b2-60e3-46e1-b72d-109e985d1248",
      "metadata": {
        "id": "4e42f0b2-60e3-46e1-b72d-109e985d1248",
        "outputId": "ce824b4f-0fd4-4766-b91a-d7e0436cc15a"
      },
      "outputs": [
        {
          "name": "stdout",
          "output_type": "stream",
          "text": [
            "torch.Size([64, 72, 72])\n"
          ]
        }
      ],
      "source": [
        "for i in dataloader:\n",
        "    print(i.shape)\n",
        "    break"
      ]
    },
    {
      "cell_type": "markdown",
      "id": "5ae49b2e-9bff-4533-b969-8cc893b2ab51",
      "metadata": {
        "id": "5ae49b2e-9bff-4533-b969-8cc893b2ab51"
      },
      "source": [
        "### Initialize"
      ]
    },
    {
      "cell_type": "code",
      "execution_count": null,
      "id": "a76ff363-6705-4066-9c9d-4be4f8de2a60",
      "metadata": {
        "id": "a76ff363-6705-4066-9c9d-4be4f8de2a60"
      },
      "outputs": [],
      "source": [
        "input_size = 72 * 72\n",
        "hidden_size = 800\n",
        "latent_size = 50"
      ]
    },
    {
      "cell_type": "code",
      "execution_count": null,
      "id": "751b8f8f-3652-4340-8c1b-604d7a526f06",
      "metadata": {
        "id": "751b8f8f-3652-4340-8c1b-604d7a526f06"
      },
      "outputs": [],
      "source": [
        "batch_size = 64\n",
        "lr = 1e-3\n",
        "model_nums = 0\n",
        "num_epochs = 10000 - model_nums\n",
        "data_loader = DataLoader(dataset, batch_size=batch_size, shuffle=True)"
      ]
    },
    {
      "cell_type": "code",
      "execution_count": null,
      "id": "2053232c-5ce0-438c-9f71-5ddc2033743c",
      "metadata": {
        "id": "2053232c-5ce0-438c-9f71-5ddc2033743c"
      },
      "outputs": [],
      "source": [
        "device = torch.device('cuda:0' if torch.cuda.is_available() else 'cpu')\n",
        "old_model = f'AE_Model/model_{model_nums}.pth'\n",
        "model = AE(input_size, hidden_size, latent_size).to(device)\n",
        "\n",
        "if model_nums > 0:\n",
        "    model.load_state_dict(torch.load(f'AE_Model/model_{model_nums}.pth'), map_location=device)\n",
        "\n",
        "optimizer = optim.Adam(model.parameters(), lr=lr)"
      ]
    },
    {
      "cell_type": "markdown",
      "id": "08982ed6-3bfd-4379-82a5-2cf9f1e0ec0a",
      "metadata": {
        "id": "08982ed6-3bfd-4379-82a5-2cf9f1e0ec0a"
      },
      "source": [
        "### Train VAE"
      ]
    },
    {
      "cell_type": "code",
      "execution_count": null,
      "id": "7c21f784-6a31-43db-a641-f355fddc132e",
      "metadata": {
        "id": "7c21f784-6a31-43db-a641-f355fddc132e"
      },
      "outputs": [],
      "source": [
        "for epoch in range(model_nums, num_epochs):\n",
        "    epoch_loss = 0.0\n",
        "    for x in tqdm(data_loader):\n",
        "        x = x.view(-1, input_size).to(device)\n",
        "        reconstruct, mean, log_var = model(x)\n",
        "        loss = AE_Loss(reconstruct, x, mean, log_var)\n",
        "        optimizer.zero_grad()\n",
        "        loss.backward()\n",
        "        optimizer.step()\n",
        "        epoch_loss += loss.item()\n",
        "    if epoch % 10 == 9:\n",
        "        torch.save(model.state_dict(), f'AE_Model/model_{epoch+1}.pth')\n",
        "    print(f'epoch {epoch+1} loss: {epoch_loss / len(dataset):.4f}')"
      ]
    },
    {
      "cell_type": "markdown",
      "id": "9c4d8add-9af7-4adc-bc34-95ea4c062d4e",
      "metadata": {
        "id": "9c4d8add-9af7-4adc-bc34-95ea4c062d4e"
      },
      "source": [
        "### Generate Picture"
      ]
    },
    {
      "cell_type": "code",
      "execution_count": null,
      "id": "27230e10-d02c-4913-9179-59d1c4982dfe",
      "metadata": {
        "id": "27230e10-d02c-4913-9179-59d1c4982dfe"
      },
      "outputs": [],
      "source": [
        "with torch.no_grad():\n",
        "    z = torch.randn(1, latent_size)\n",
        "    image = model.decoder(z).view(72, 72)\n",
        "    image = image.detach().numpy()\n",
        "    plt.imshow(image, cmap=\"gray\")\n",
        "    plt.show()"
      ]
    },
    {
      "cell_type": "markdown",
      "id": "1b4f56b0-de29-42ea-819d-87912fd8108c",
      "metadata": {
        "id": "1b4f56b0-de29-42ea-819d-87912fd8108c"
      },
      "source": [
        "### Save Model"
      ]
    },
    {
      "cell_type": "code",
      "execution_count": null,
      "id": "0e1f98b8-9ff1-4bdf-9a59-01757bc845c2",
      "metadata": {
        "id": "0e1f98b8-9ff1-4bdf-9a59-01757bc845c2"
      },
      "outputs": [],
      "source": [
        "torch.save(model.state_dict(), f'AE_Model/model_final.pth')"
      ]
    },
    {
      "cell_type": "markdown",
      "id": "097fbf40-61d0-47d8-91c7-c0bd31831bf1",
      "metadata": {
        "id": "097fbf40-61d0-47d8-91c7-c0bd31831bf1"
      },
      "source": [
        "# Test Model"
      ]
    },
    {
      "cell_type": "code",
      "execution_count": null,
      "id": "67e8bcb5-f47d-4366-9bf3-7bd7d39e55cf",
      "metadata": {
        "id": "67e8bcb5-f47d-4366-9bf3-7bd7d39e55cf"
      },
      "outputs": [],
      "source": [
        "model_nums = 10000"
      ]
    },
    {
      "cell_type": "code",
      "execution_count": null,
      "id": "a47423d0-968b-44dd-bc45-81cd991f9cc6",
      "metadata": {
        "id": "a47423d0-968b-44dd-bc45-81cd991f9cc6"
      },
      "outputs": [],
      "source": [
        "model.load_state_dict(torch.load(f'AE_Model/model_{model_nums}.pth'))\n",
        "sample_image = dataset[0]\n",
        "mean, log_var = model.encoder(sample_image.view(-1, input_size))\n",
        "generated_image = model.decoder(mean).view(72,72)\n",
        "\n",
        "plt.subplot(1, 2, 1)\n",
        "plt.title('Original Image')\n",
        "plt.imshow(sample_image.view(72, 72), cmap='gray')\n",
        "plt.subplot(1, 2, 2)\n",
        "plt.title('Generated Image')\n",
        "plt.imshow(generated_image.detach().numpy(), cmap='gray')\n",
        "plt.show()"
      ]
    }
  ],
  "metadata": {
    "colab": {
      "provenance": []
    },
    "kernelspec": {
      "display_name": "car_racing_AI",
      "language": "python",
      "name": "sample_env"
    },
    "language_info": {
      "codemirror_mode": {
        "name": "ipython",
        "version": 3
      },
      "file_extension": ".py",
      "mimetype": "text/x-python",
      "name": "python",
      "nbconvert_exporter": "python",
      "pygments_lexer": "ipython3",
      "version": "3.8.20"
    }
  },
  "nbformat": 4,
  "nbformat_minor": 5
}
