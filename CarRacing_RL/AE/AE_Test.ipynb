{
  "cells": [
    {
      "cell_type": "markdown",
      "id": "a0a79165-9626-4303-8e6e-e32704db68c3",
      "metadata": {
        "id": "a0a79165-9626-4303-8e6e-e32704db68c3"
      },
      "source": [
        "# import site-package"
      ]
    },
    {
      "cell_type": "code",
      "execution_count": null,
      "id": "vcDhPGuHTGgj",
      "metadata": {
        "id": "vcDhPGuHTGgj"
      },
      "outputs": [],
      "source": [
        "from google.colab import drive\n",
        "drive.mount('/content/drive')"
      ]
    },
    {
      "cell_type": "code",
      "execution_count": null,
      "id": "6f3c18e5-cf1f-4dd7-858c-1aea90a99222",
      "metadata": {
        "id": "6f3c18e5-cf1f-4dd7-858c-1aea90a99222"
      },
      "outputs": [],
      "source": [
        "import torch\n",
        "import torch.nn as nn\n",
        "import numpy as np\n",
        "from torchvision import datasets, transforms\n",
        "from torch.utils.data import Dataset, DataLoader\n",
        "import matplotlib.pyplot as plt\n",
        "from torchvision.datasets import ImageFolder"
      ]
    },
    {
      "cell_type": "markdown",
      "id": "olvPWRd0fdcH",
      "metadata": {
        "id": "olvPWRd0fdcH"
      },
      "source": [
        "# Class Dataset"
      ]
    },
    {
      "cell_type": "code",
      "execution_count": null,
      "id": "YwCd_vzwfcuT",
      "metadata": {
        "id": "YwCd_vzwfcuT"
      },
      "outputs": [],
      "source": [
        "class CarRacingDataset(Dataset):\n",
        "    def __init__(self, npy_file):\n",
        "        self.data = np.load(npy_file)\n",
        "\n",
        "    def __len__(self):\n",
        "        return len(self.data)\n",
        "\n",
        "    def __getitem__(self, idx):\n",
        "        sample = self.data[idx]\n",
        "        sample = torch.tensor(sample, dtype=torch.float32)\n",
        "        return sample"
      ]
    },
    {
      "cell_type": "markdown",
      "id": "a29687e1-a8da-48c8-8b76-7c30de847d35",
      "metadata": {
        "id": "a29687e1-a8da-48c8-8b76-7c30de847d35"
      },
      "source": [
        "# Class AE"
      ]
    },
    {
      "cell_type": "markdown",
      "id": "737a17d7-a99e-4883-be33-62b38d0c21c8",
      "metadata": {
        "id": "737a17d7-a99e-4883-be33-62b38d0c21c8"
      },
      "source": [
        "### Encoder"
      ]
    },
    {
      "cell_type": "code",
      "execution_count": null,
      "id": "a735624d-2254-437d-b283-50314a515699",
      "metadata": {
        "id": "a735624d-2254-437d-b283-50314a515699"
      },
      "outputs": [],
      "source": [
        "class AEEncoder(nn.Module):\n",
        "    def __init__(self, input_size, hidden_size, latent_size):\n",
        "        super().__init__()\n",
        "        self.fc1 = nn.Linear(input_size, hidden_size)\n",
        "        self.fc2 = nn.Linear(hidden_size, latent_size)\n",
        "\n",
        "    def forward(self, x):\n",
        "        z = self.fc2(torch.relu(self.fc1(x)))\n",
        "        return z"
      ]
    },
    {
      "cell_type": "markdown",
      "id": "9b27840e-9093-42b0-be3f-cec4548214c2",
      "metadata": {
        "id": "9b27840e-9093-42b0-be3f-cec4548214c2"
      },
      "source": [
        "### Decoder"
      ]
    },
    {
      "cell_type": "code",
      "execution_count": null,
      "id": "74f8173b-a8a7-4240-b4aa-30c7dcd16615",
      "metadata": {
        "id": "74f8173b-a8a7-4240-b4aa-30c7dcd16615"
      },
      "outputs": [],
      "source": [
        "class AEDecoder(nn.Module):\n",
        "    def __init__(self, latent_size, hidden_size, output_size):\n",
        "        super().__init__()\n",
        "        self.fc1 = nn.Linear(latent_size, hidden_size)\n",
        "        self.fc2 = nn.Linear(hidden_size, output_size)\n",
        "\n",
        "    def forward(self, x):\n",
        "        x = torch.sigmoid( self.fc2( torch.relu(self.fc1(x)) ) )\n",
        "        return x"
      ]
    },
    {
      "cell_type": "markdown",
      "id": "80e7d568-d2ab-4b1c-9bdc-13afb44b151f",
      "metadata": {
        "id": "80e7d568-d2ab-4b1c-9bdc-13afb44b151f"
      },
      "source": [
        "### VAE Module"
      ]
    },
    {
      "cell_type": "code",
      "execution_count": null,
      "id": "b99515a0-436f-4274-a818-dbff8905cae2",
      "metadata": {
        "id": "b99515a0-436f-4274-a818-dbff8905cae2"
      },
      "outputs": [],
      "source": [
        "class AE(nn.Module):\n",
        "    def __init__(self, input_size, hidden_size, latent_size):\n",
        "        super().__init__()\n",
        "        self.encoder = AEEncoder(input_size, hidden_size, latent_size)\n",
        "        self.decoder = AEDecoder(latent_size, hidden_size, input_size)\n",
        "\n",
        "    def forward(self, x):\n",
        "        z = self.encoder(x)\n",
        "        reconstruct = self.decoder(z)\n",
        "        return reconstruct, z"
      ]
    },
    {
      "cell_type": "markdown",
      "id": "097fbf40-61d0-47d8-91c7-c0bd31831bf1",
      "metadata": {
        "id": "097fbf40-61d0-47d8-91c7-c0bd31831bf1"
      },
      "source": [
        "# Test Model"
      ]
    },
    {
      "cell_type": "markdown",
      "id": "15d91e9b-1e84-49eb-ab09-894adf3001e3",
      "metadata": {
        "id": "15d91e9b-1e84-49eb-ab09-894adf3001e3"
      },
      "source": [
        "### Load Dataset"
      ]
    },
    {
      "cell_type": "code",
      "execution_count": null,
      "id": "HOhBHKK9firb",
      "metadata": {
        "id": "HOhBHKK9firb"
      },
      "outputs": [],
      "source": [
        "dataset = CarRacingDataset(\"/content/drive/MyDrive/VAE/data/car_racing_states.npy\")\n",
        "dataloader = DataLoader(dataset, batch_size=64, shuffle=True)"
      ]
    },
    {
      "cell_type": "code",
      "execution_count": null,
      "id": "VDbYS3w6fj8Z",
      "metadata": {
        "colab": {
          "base_uri": "https://localhost:8080/"
        },
        "id": "VDbYS3w6fj8Z",
        "outputId": "656d7f81-56ef-43dd-dc90-6cf3eec7488a"
      },
      "outputs": [
        {
          "name": "stdout",
          "output_type": "stream",
          "text": [
            "torch.Size([64, 72, 72])\n"
          ]
        }
      ],
      "source": [
        "for i in dataloader:\n",
        "    print(i.shape)\n",
        "    break"
      ]
    },
    {
      "cell_type": "markdown",
      "id": "5ae49b2e-9bff-4533-b969-8cc893b2ab51",
      "metadata": {
        "id": "5ae49b2e-9bff-4533-b969-8cc893b2ab51"
      },
      "source": [
        "### Initialize"
      ]
    },
    {
      "cell_type": "code",
      "execution_count": null,
      "id": "a76ff363-6705-4066-9c9d-4be4f8de2a60",
      "metadata": {
        "id": "a76ff363-6705-4066-9c9d-4be4f8de2a60"
      },
      "outputs": [],
      "source": [
        "input_size = 72 * 72\n",
        "hidden_size = 800\n",
        "latent_size = 64\n",
        "model_nums = 10700"
      ]
    },
    {
      "cell_type": "code",
      "execution_count": null,
      "id": "67e8bcb5-f47d-4366-9bf3-7bd7d39e55cf",
      "metadata": {
        "id": "67e8bcb5-f47d-4366-9bf3-7bd7d39e55cf"
      },
      "outputs": [],
      "source": [
        "device = torch.device('cuda:0' if torch.cuda.is_available() else 'cpu')\n",
        "\n",
        "model = AE(input_size, hidden_size, latent_size).to(device)\n",
        "model.load_state_dict(torch.load(f'/content/drive/MyDrive/AE/model/0~1/model(latent=50)/model_{model_nums}.pth'))\n",
        "model.eval()"
      ]
    },
    {
      "cell_type": "markdown",
      "id": "XKD_xTwMXlot",
      "metadata": {
        "id": "XKD_xTwMXlot"
      },
      "source": [
        "### Test"
      ]
    },
    {
      "cell_type": "code",
      "execution_count": null,
      "id": "a47423d0-968b-44dd-bc45-81cd991f9cc6",
      "metadata": {
        "colab": {
          "base_uri": "https://localhost:8080/",
          "height": 308
        },
        "id": "a47423d0-968b-44dd-bc45-81cd991f9cc6",
        "outputId": "568c346b-5084-42ec-ce35-d9930110189c"
      },
      "outputs": [
        {
          "data": {
            "image/png": "[encoded data removed]",
            "text/plain": [
              "<Figure size 640x480 with 2 Axes>"
            ]
          },
          "metadata": {},
          "output_type": "display_data"
        }
      ],
      "source": [
        "sample_image = dataset[0]\n",
        "sample_image = sample_image.view(-1, input_size).to(device)\n",
        "mean, log_var = model.encoder(sample_image)\n",
        "generated_image = model.decoder(mean).view(72,72)\n",
        "\n",
        "plt.subplot(1, 2, 1)\n",
        "plt.title('Original Image')\n",
        "plt.imshow(sample_image.view(72, 72), cmap='gray')\n",
        "plt.subplot(1, 2, 2)\n",
        "plt.title('Generated Image')\n",
        "plt.imshow(generated_image.detach().numpy(), cmap='gray')\n",
        "plt.show()"
      ]
    },
    {
      "cell_type": "markdown",
      "id": "9c4d8add-9af7-4adc-bc34-95ea4c062d4e",
      "metadata": {
        "id": "9c4d8add-9af7-4adc-bc34-95ea4c062d4e"
      },
      "source": [
        "### Generate Picture"
      ]
    },
    {
      "cell_type": "code",
      "execution_count": null,
      "id": "27230e10-d02c-4913-9179-59d1c4982dfe",
      "metadata": {
        "colab": {
          "base_uri": "https://localhost:8080/",
          "height": 433
        },
        "id": "27230e10-d02c-4913-9179-59d1c4982dfe",
        "outputId": "40d5585a-19fd-4f6b-e7f0-d5c004db1b0b"
      },
      "outputs": [
        {
          "data": {
            "image/png": "[encoded data removed]",
            "text/plain": [
              "<Figure size 640x480 with 1 Axes>"
            ]
          },
          "metadata": {},
          "output_type": "display_data"
        }
      ],
      "source": [
        "# 這不重要，這是無中生有\n",
        "with torch.no_grad():\n",
        "    z = torch.randn(1, latent_size)\n",
        "    image = model.decoder(z).view(72, 72)\n",
        "    image = image.detach().numpy()\n",
        "    plt.imshow(image, cmap=\"gray\")\n",
        "    plt.show()"
      ]
    }
  ],
  "metadata": {
    "colab": {
      "provenance": []
    },
    "kernelspec": {
      "display_name": "Python 3 (ipykernel)",
      "language": "python",
      "name": "python3"
    },
    "language_info": {
      "codemirror_mode": {
        "name": "ipython",
        "version": 3
      },
      "file_extension": ".py",
      "mimetype": "text/x-python",
      "name": "python",
      "nbconvert_exporter": "python",
      "pygments_lexer": "ipython3",
      "version": "3.10.12"
    }
  },
  "nbformat": 4,
  "nbformat_minor": 5
}
