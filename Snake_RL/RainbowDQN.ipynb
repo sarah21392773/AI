{
 "cells": [
  {
   "cell_type": "markdown",
   "id": "c747e29a",
   "metadata": {},
   "source": [
    "# import neccesery"
   ]
  },
  {
   "cell_type": "code",
   "execution_count": 1,
   "id": "85a5aaef",
   "metadata": {},
   "outputs": [
    {
     "name": "stdout",
     "output_type": "stream",
     "text": [
      "pygame 2.6.0 (SDL 2.28.4, Python 3.10.11)\n",
      "Hello from the pygame community. https://www.pygame.org/contribute.html\n"
     ]
    }
   ],
   "source": [
    "import pygame\n",
    "import random\n",
    "from enum import Enum\n",
    "from collections import namedtuple\n",
    "import numpy as np\n",
    "import torch\n",
    "import torch.nn.functional as F\n",
    "from tqdm import tqdm\n",
    "import math\n",
    "import os\n",
    "\n",
    "from Snake_Env import Env\n",
    "device = torch.device('cuda' if torch.cuda.is_available() else 'cpu')"
   ]
  },
  {
   "cell_type": "markdown",
   "id": "0ebb754d",
   "metadata": {},
   "source": [
    "# Create Env"
   ]
  },
  {
   "cell_type": "code",
   "execution_count": 2,
   "id": "79e3e899",
   "metadata": {},
   "outputs": [],
   "source": [
    "import gym\n",
    "from gym import spaces\n",
    "import numpy as np\n",
    "\n",
    "class SnakeEnv(gym.Env):\n",
    "    metadata = {'render.modes': ['human']}\n",
    "\n",
    "    def __init__(self, w=640, h=480):\n",
    "        super(SnakeEnv, self).__init__()\n",
    "        self.game = Env(w=w, h=h)\n",
    "\n",
    "        # 定義 action space（3個動作：直走、右轉、左轉）\n",
    "        self.action_space = spaces.Discrete(3)\n",
    "\n",
    "        # 定義 observation space（長度11的state，每個是0或1）\n",
    "        self.observation_space = spaces.Box(low=0, high=1, shape=(11,), dtype=np.int32)\n",
    "\n",
    "    def reset(self):\n",
    "        state = self.game.reset()\n",
    "        return state\n",
    "\n",
    "    def step(self, action_idx):\n",
    "        \"\"\"\n",
    "        action_idx: 0=直走, 1=右轉, 2=左轉\n",
    "        轉成 one-hot vector 給 SnakeGameAI\n",
    "        \"\"\"\n",
    "        action = [0, 0, 0]\n",
    "        action[action_idx] = 1\n",
    "        state, _, reward, next_state, done = self.game.play_step(action)\n",
    "        info = {\"score\": self.game.score}\n",
    "        return next_state, reward, done, info\n",
    "\n",
    "    def render(self, mode='human'):\n",
    "        self.game.render()\n",
    "\n",
    "    def close(self):\n",
    "        pygame.quit()"
   ]
  },
  {
   "cell_type": "markdown",
   "id": "f5484a2d",
   "metadata": {},
   "source": [
    "# Replay Buffer"
   ]
  },
  {
   "cell_type": "code",
   "execution_count": 3,
   "id": "c6197654",
   "metadata": {},
   "outputs": [],
   "source": [
    "class ReplayBuffer:\n",
    "    def __init__(self, max_size=10000, alpha=0.6):\n",
    "        self.max_size = max_size\n",
    "        self.alpha = alpha\n",
    "        self.ptr = 0\n",
    "        self.size = 0\n",
    "\n",
    "        self.s = np.zeros((max_size, 11), dtype=np.float32)\n",
    "        self.a = np.zeros((max_size,), dtype=np.int64)\n",
    "        self.r = np.zeros((max_size,), dtype=np.float32)\n",
    "        self.s_ = np.zeros((max_size, 11), dtype=np.float32)\n",
    "        self.done = np.zeros((max_size,), dtype=np.float32)\n",
    "        self.priorities = np.zeros((max_size,), dtype=np.float32)\n",
    "\n",
    "    def append(self, s, a, r, s_, done):\n",
    "        max_prio = self.priorities.max() if self.size > 0 else 1.0\n",
    "\n",
    "        self.s[self.ptr] = s\n",
    "        self.a[self.ptr] = a\n",
    "        self.r[self.ptr] = r\n",
    "        self.s_[self.ptr] = s_\n",
    "        self.done[self.ptr] = done\n",
    "        self.priorities[self.ptr] = max_prio\n",
    "\n",
    "        self.ptr = (self.ptr + 1) % self.max_size\n",
    "        self.size = min(self.size + 1, self.max_size)\n",
    "\n",
    "    def sample(self, batch_size, beta=0.4):\n",
    "        if self.size == self.max_size:\n",
    "            prios = self.priorities\n",
    "        else:\n",
    "            prios = self.priorities[:self.ptr]\n",
    "\n",
    "        probs = prios ** self.alpha\n",
    "        probs /= probs.sum()\n",
    "\n",
    "        indices = np.random.choice(len(probs), batch_size, p=probs)\n",
    "        weights = (len(probs) * probs[indices]) ** (-beta)\n",
    "        weights /= weights.max()\n",
    "\n",
    "        return (\n",
    "            torch.FloatTensor(self.s[indices]),\n",
    "            torch.LongTensor(self.a[indices]),\n",
    "            torch.FloatTensor(self.r[indices]),\n",
    "            torch.FloatTensor(self.s_[indices]),\n",
    "            torch.FloatTensor(self.done[indices]),\n",
    "            torch.FloatTensor(weights),\n",
    "            indices\n",
    "        )\n",
    "\n",
    "    def update_priorities(self, indices, prios):\n",
    "        for idx, prio in zip(indices, prios):\n",
    "            self.priorities[idx] = prio"
   ]
  },
  {
   "cell_type": "markdown",
   "id": "a5f9485e",
   "metadata": {},
   "source": [
    "# DQN model"
   ]
  },
  {
   "cell_type": "code",
   "execution_count": 4,
   "id": "3ae0e4f9",
   "metadata": {},
   "outputs": [],
   "source": [
    "class DQN(torch.nn.Module):\n",
    "    def __init__(self, input_dim=11, output_dim=3):\n",
    "        super(DQN, self).__init__()\n",
    "        self.fc1 = torch.nn.Linear(input_dim, 128)\n",
    "        self.fc2 = torch.nn.Linear(128, 64)\n",
    "\n",
    "        self.value_fc = torch.nn.Linear(64, 32)\n",
    "        self.value = torch.nn.Linear(32, 1)\n",
    "\n",
    "        self.adv_fc = torch.nn.Linear(64, 32)\n",
    "        self.adv = torch.nn.Linear(32, output_dim)\n",
    "\n",
    "    def forward(self, x):\n",
    "        x = F.relu(self.fc1(x))\n",
    "        x = F.relu(self.fc2(x))\n",
    "\n",
    "        value = self.value(F.relu(self.value_fc(x)))\n",
    "        adv = self.adv(F.relu(self.adv_fc(x)))\n",
    "\n",
    "        return value + (adv - adv.mean(dim=-1, keepdim=True))\n"
   ]
  },
  {
   "cell_type": "markdown",
   "id": "68162a67",
   "metadata": {},
   "source": [
    "# Agent"
   ]
  },
  {
   "cell_type": "code",
   "execution_count": 5,
   "id": "0fae01da",
   "metadata": {},
   "outputs": [],
   "source": [
    "folder = \"RainbowDQN_model/\"\n",
    "\n",
    "if not os.path.exists(folder):\n",
    "    os.makedirs(folder)"
   ]
  },
  {
   "cell_type": "code",
   "execution_count": null,
   "id": "b3263c95",
   "metadata": {},
   "outputs": [],
   "source": [
    "class DQNAgent:\n",
    "    def __init__(self, gamma=0.9, eps_low=0.05, lr=1e-3):\n",
    "        self.env = SnakeEnv()\n",
    "        self.n_act = self.env.action_space.n\n",
    "        self.model = DQN(output_dim=self.n_act).to(device)\n",
    "        self.target_model = DQN(output_dim=self.n_act).to(device)\n",
    "        self.target_model.load_state_dict(self.model.state_dict())\n",
    "\n",
    "        self.optimizer = torch.optim.Adam(self.model.parameters(), lr=lr)\n",
    "        self.loss_fn = torch.nn.SmoothL1Loss()\n",
    "        self.rb = ReplayBuffer()\n",
    "        self.gamma = gamma\n",
    "        self.eps_low = eps_low\n",
    "        self.steps = 0\n",
    "        self.beta_start = 0.4\n",
    "        self.beta_frames = 10000\n",
    "        self.log = {\"TrainReward\": [], \"TestReward\": [], \"Loss\": []}\n",
    "\n",
    "    def predict(self, state):\n",
    "        state = torch.FloatTensor(state).unsqueeze(0).to(device)\n",
    "        with torch.no_grad():\n",
    "            return self.model(state).argmax().item()\n",
    "\n",
    "    def select_action(self, state, eps):\n",
    "        if random.random() < eps:\n",
    "            return random.randint(0, self.n_act - 1)\n",
    "        return self.predict(state)\n",
    "    \n",
    "    def save_log(self, ep):\n",
    "        np.save(f\"{folder}log_{ep}.npy\", self.log)\n",
    "\n",
    "    def learn(self, batch_size=64):\n",
    "        beta = min(1.0, self.beta_start + self.steps * (1.0 - self.beta_start) / self.beta_frames)\n",
    "        s, a, r, s_, done, weights, indices = self.rb.sample(batch_size)\n",
    "        s, a, r, s_, done, weights = map(lambda x: x.to(device), (s, a, r, s_, done, weights))\n",
    "\n",
    "\n",
    "        # Double DQN\n",
    "        with torch.no_grad():\n",
    "            next_actions = self.model(s_).argmax(1, keepdim=True)  # 用 online model 選擇動作\n",
    "            next_q = self.target_model(s_).gather(1, next_actions).squeeze()  # 用 target model 評估\n",
    "            q_target = r + self.gamma * next_q * (1 - done)\n",
    "\n",
    "        q_pred = self.model(s).gather(1, a.unsqueeze(1)).squeeze()\n",
    "        td_error = q_pred - q_target\n",
    "        prios = (td_error.abs() + 1e-5).detach().cpu().numpy()\n",
    "        self.rb.update_priorities(indices, prios)\n",
    "\n",
    "        loss = (td_error.pow(2) * weights.to(device)).mean()\n",
    "        self.optimizer.zero_grad()\n",
    "        loss.backward()\n",
    "        self.optimizer.step()\n",
    "\n",
    "        self.log[\"Loss\"].append(loss.item())\n",
    "\n",
    "    def train(self, N_EPISODES=1000):\n",
    "        for ep in tqdm(range(N_EPISODES)):\n",
    "            state = self.env.reset()\n",
    "            done = False\n",
    "            total_reward = 0\n",
    "            eps = self.eps_low + (1.0 - self.eps_low) * math.exp(-ep / 100)\n",
    "\n",
    "            while not done:\n",
    "                action = self.select_action(state, eps)\n",
    "                next_state, reward, done, _ = self.env.step(action)\n",
    "                self.rb.append(state, action, reward, next_state, float(done))\n",
    "                state = next_state\n",
    "                total_reward += reward\n",
    "\n",
    "                self.steps += 1\n",
    "                if self.rb.size > 500:\n",
    "                    self.learn()\n",
    "\n",
    "                if self.steps % 200 == 0:\n",
    "                    self.target_model.load_state_dict(self.model.state_dict())\n",
    "\n",
    "            self.log[\"TrainReward\"].append(total_reward)\n",
    "\n",
    "            if ep % 20 == 0:\n",
    "                test_reward = self.test()\n",
    "                self.log[\"TestReward\"].append(test_reward)\n",
    "                print(f\"\\nEpisode {ep}: Train Reward = {total_reward}, Test Reward = {test_reward}\")\n",
    "                torch.save(self.model.state_dict(), f\"{folder}snake_model_{ep}.pt\")\n",
    "                self.save_log(ep)\n",
    "\n",
    "    def test(self, render=False):\n",
    "        state = self.env.reset()\n",
    "        done = False\n",
    "        total_reward = 0\n",
    "        while not done:\n",
    "            if render:\n",
    "                self.env.render()\n",
    "            action = self.predict(state)\n",
    "            state, reward, done, _ = self.env.step(action)\n",
    "            total_reward += reward\n",
    "        return total_reward\n"
   ]
  },
  {
   "cell_type": "markdown",
   "id": "5d7efb32",
   "metadata": {},
   "source": [
    "# train"
   ]
  },
  {
   "cell_type": "code",
   "execution_count": null,
   "id": "67994ff4",
   "metadata": {},
   "outputs": [
    {
     "name": "stderr",
     "output_type": "stream",
     "text": [
      "  0%|          | 1/1000 [00:13<3:39:21, 13.17s/it]"
     ]
    },
    {
     "name": "stdout",
     "output_type": "stream",
     "text": [
      "\n",
      "Episode 0: Train Reward = -10, Test Reward = -10\n"
     ]
    },
    {
     "name": "stderr",
     "output_type": "stream",
     "text": [
      "  0%|          | 5/1000 [00:24<1:21:55,  4.94s/it]\n"
     ]
    },
    {
     "ename": "ValueError",
     "evalue": "not enough values to unpack (expected 7, got 5)",
     "output_type": "error",
     "traceback": [
      "\u001b[1;31m---------------------------------------------------------------------------\u001b[0m",
      "\u001b[1;31mValueError\u001b[0m                                Traceback (most recent call last)",
      "Cell \u001b[1;32mIn[7], line 2\u001b[0m\n\u001b[0;32m      1\u001b[0m agent \u001b[38;5;241m=\u001b[39m DQNAgent(gamma\u001b[38;5;241m=\u001b[39m\u001b[38;5;241m0.9\u001b[39m, eps_low\u001b[38;5;241m=\u001b[39m\u001b[38;5;241m0.05\u001b[39m, lr\u001b[38;5;241m=\u001b[39m\u001b[38;5;241m1e-3\u001b[39m)\n\u001b[1;32m----> 2\u001b[0m \u001b[43magent\u001b[49m\u001b[38;5;241;43m.\u001b[39;49m\u001b[43mtrain\u001b[49m\u001b[43m(\u001b[49m\u001b[43mN_EPISODES\u001b[49m\u001b[38;5;241;43m=\u001b[39;49m\u001b[38;5;241;43m1000\u001b[39;49m\u001b[43m)\u001b[49m\n",
      "Cell \u001b[1;32mIn[6], line 70\u001b[0m, in \u001b[0;36mDQNAgent.train\u001b[1;34m(self, N_EPISODES)\u001b[0m\n\u001b[0;32m     68\u001b[0m \u001b[38;5;28mself\u001b[39m\u001b[38;5;241m.\u001b[39msteps \u001b[38;5;241m+\u001b[39m\u001b[38;5;241m=\u001b[39m \u001b[38;5;241m1\u001b[39m\n\u001b[0;32m     69\u001b[0m \u001b[38;5;28;01mif\u001b[39;00m \u001b[38;5;28mself\u001b[39m\u001b[38;5;241m.\u001b[39mrb\u001b[38;5;241m.\u001b[39msize \u001b[38;5;241m>\u001b[39m \u001b[38;5;241m500\u001b[39m:\n\u001b[1;32m---> 70\u001b[0m     \u001b[38;5;28;43mself\u001b[39;49m\u001b[38;5;241;43m.\u001b[39;49m\u001b[43mlearn\u001b[49m\u001b[43m(\u001b[49m\u001b[43m)\u001b[49m\n\u001b[0;32m     72\u001b[0m \u001b[38;5;28;01mif\u001b[39;00m \u001b[38;5;28mself\u001b[39m\u001b[38;5;241m.\u001b[39msteps \u001b[38;5;241m%\u001b[39m \u001b[38;5;241m200\u001b[39m \u001b[38;5;241m==\u001b[39m \u001b[38;5;241m0\u001b[39m:\n\u001b[0;32m     73\u001b[0m     \u001b[38;5;28mself\u001b[39m\u001b[38;5;241m.\u001b[39mtarget_model\u001b[38;5;241m.\u001b[39mload_state_dict(\u001b[38;5;28mself\u001b[39m\u001b[38;5;241m.\u001b[39mmodel\u001b[38;5;241m.\u001b[39mstate_dict())\n",
      "Cell \u001b[1;32mIn[6], line 35\u001b[0m, in \u001b[0;36mDQNAgent.learn\u001b[1;34m(self, batch_size)\u001b[0m\n\u001b[0;32m     33\u001b[0m beta \u001b[38;5;241m=\u001b[39m \u001b[38;5;28mmin\u001b[39m(\u001b[38;5;241m1.0\u001b[39m, \u001b[38;5;28mself\u001b[39m\u001b[38;5;241m.\u001b[39mbeta_start \u001b[38;5;241m+\u001b[39m \u001b[38;5;28mself\u001b[39m\u001b[38;5;241m.\u001b[39msteps \u001b[38;5;241m*\u001b[39m (\u001b[38;5;241m1.0\u001b[39m \u001b[38;5;241m-\u001b[39m \u001b[38;5;28mself\u001b[39m\u001b[38;5;241m.\u001b[39mbeta_start) \u001b[38;5;241m/\u001b[39m \u001b[38;5;28mself\u001b[39m\u001b[38;5;241m.\u001b[39mbeta_frames)\n\u001b[0;32m     34\u001b[0m s, a, r, s_, done, weights, indices \u001b[38;5;241m=\u001b[39m \u001b[38;5;28mself\u001b[39m\u001b[38;5;241m.\u001b[39mrb\u001b[38;5;241m.\u001b[39msample(batch_size)\n\u001b[1;32m---> 35\u001b[0m s, a, r, s_, done, weights, indices \u001b[38;5;241m=\u001b[39m s\u001b[38;5;241m.\u001b[39mto(device), a\u001b[38;5;241m.\u001b[39mto(device), r\u001b[38;5;241m.\u001b[39mto(device), s_\u001b[38;5;241m.\u001b[39mto(device), done\u001b[38;5;241m.\u001b[39mto(device)\n\u001b[0;32m     37\u001b[0m \u001b[38;5;66;03m# Double DQN\u001b[39;00m\n\u001b[0;32m     38\u001b[0m \u001b[38;5;28;01mwith\u001b[39;00m torch\u001b[38;5;241m.\u001b[39mno_grad():\n",
      "\u001b[1;31mValueError\u001b[0m: not enough values to unpack (expected 7, got 5)"
     ]
    },
    {
     "ename": "",
     "evalue": "",
     "output_type": "error",
     "traceback": [
      "\u001b[1;31mThe Kernel crashed while executing code in the current cell or a previous cell. \n",
      "\u001b[1;31mPlease review the code in the cell(s) to identify a possible cause of the failure. \n",
      "\u001b[1;31mClick <a href='https://aka.ms/vscodeJupyterKernelCrash'>here</a> for more info. \n",
      "\u001b[1;31mView Jupyter <a href='command:jupyter.viewOutput'>log</a> for further details."
     ]
    }
   ],
   "source": [
    "agent = DQNAgent(gamma=0.9, eps_low=0.05, lr=1e-3)\n",
    "agent.train(N_EPISODES=1000)"
   ]
  },
  {
   "cell_type": "code",
   "execution_count": null,
   "id": "2f7e2a55",
   "metadata": {},
   "outputs": [],
   "source": [
    "agent.test(render=True)"
   ]
  }
 ],
 "metadata": {
  "kernelspec": {
   "display_name": "Python 3",
   "language": "python",
   "name": "python3"
  },
  "language_info": {
   "codemirror_mode": {
    "name": "ipython",
    "version": 3
   },
   "file_extension": ".py",
   "mimetype": "text/x-python",
   "name": "python",
   "nbconvert_exporter": "python",
   "pygments_lexer": "ipython3",
   "version": "3.10.11"
  }
 },
 "nbformat": 4,
 "nbformat_minor": 5
}
