{
 "cells": [
  {
   "cell_type": "markdown",
   "id": "c747e29a",
   "metadata": {},
   "source": [
    "# import neccesery"
   ]
  },
  {
   "cell_type": "code",
   "execution_count": 1,
   "id": "85a5aaef",
   "metadata": {},
   "outputs": [
    {
     "name": "stdout",
     "output_type": "stream",
     "text": [
      "pygame 2.6.0 (SDL 2.28.4, Python 3.10.11)\n",
      "Hello from the pygame community. https://www.pygame.org/contribute.html\n"
     ]
    }
   ],
   "source": [
    "import pygame\n",
    "import random\n",
    "from enum import Enum\n",
    "from collections import namedtuple\n",
    "import numpy as np\n",
    "import torch\n",
    "import torch.nn.functional as F\n",
    "from tqdm import tqdm\n",
    "import math\n",
    "\n",
    "from Snake_Env import Env\n",
    "device = torch.device('cuda' if torch.cuda.is_available() else 'cpu')"
   ]
  },
  {
   "cell_type": "markdown",
   "id": "0ebb754d",
   "metadata": {},
   "source": [
    "# Create Env"
   ]
  },
  {
   "cell_type": "code",
   "execution_count": 2,
   "id": "79e3e899",
   "metadata": {},
   "outputs": [],
   "source": [
    "import gym\n",
    "from gym import spaces\n",
    "import numpy as np\n",
    "\n",
    "class SnakeEnv(gym.Env):\n",
    "    metadata = {'render.modes': ['human']}\n",
    "\n",
    "    def __init__(self, w=640, h=480):\n",
    "        super(SnakeEnv, self).__init__()\n",
    "        self.game = Env(w=w, h=h)\n",
    "\n",
    "        # 定義 action space（3個動作：直走、右轉、左轉）\n",
    "        self.action_space = spaces.Discrete(3)\n",
    "\n",
    "        # 定義 observation space（長度11的state，每個是0或1）\n",
    "        self.observation_space = spaces.Box(low=0, high=1, shape=(11,), dtype=np.int32)\n",
    "\n",
    "    def reset(self):\n",
    "        state = self.game.reset()\n",
    "        return state\n",
    "\n",
    "    def step(self, action_idx):\n",
    "        \"\"\"\n",
    "        action_idx: 0=直走, 1=右轉, 2=左轉\n",
    "        轉成 one-hot vector 給 SnakeGameAI\n",
    "        \"\"\"\n",
    "        action = [0, 0, 0]\n",
    "        action[action_idx] = 1\n",
    "        state, _, reward, next_state, done = self.game.play_step(action)\n",
    "        info = {\"score\": self.game.score}\n",
    "        return next_state, reward, done, info\n",
    "\n",
    "    def render(self, mode='human'):\n",
    "        self.game.render()\n",
    "\n",
    "    def close(self):\n",
    "        pygame.quit()"
   ]
  },
  {
   "cell_type": "markdown",
   "id": "f5484a2d",
   "metadata": {},
   "source": [
    "# Replay Buffer"
   ]
  },
  {
   "cell_type": "code",
   "execution_count": 3,
   "id": "c6197654",
   "metadata": {},
   "outputs": [],
   "source": [
    "class ReplayBuffer:\n",
    "    def __init__(self, max_size=10000):\n",
    "        self.s = np.zeros((max_size, 11), dtype=np.float32)\n",
    "        self.a = np.zeros((max_size,), dtype=np.int64)\n",
    "        self.r = np.zeros((max_size,), dtype=np.float32)\n",
    "        self.s_ = np.zeros((max_size, 11), dtype=np.float32)\n",
    "        self.done = np.zeros((max_size,), dtype=np.float32)\n",
    "        self.ptr = 0\n",
    "        self.size = 0\n",
    "        self.max_size = max_size\n",
    "\n",
    "    def append(self, s, a, r, s_, done):\n",
    "        self.s[self.ptr] = s\n",
    "        self.a[self.ptr] = a\n",
    "        self.r[self.ptr] = r\n",
    "        self.s_[self.ptr] = s_\n",
    "        self.done[self.ptr] = done\n",
    "        self.ptr = (self.ptr + 1) % self.max_size\n",
    "        self.size = min(self.size + 1, self.max_size)\n",
    "\n",
    "    def sample(self, batch_size):\n",
    "        idx = np.random.choice(self.size, batch_size, replace=False)\n",
    "        return (\n",
    "            torch.FloatTensor(self.s[idx]),\n",
    "            torch.LongTensor(self.a[idx]),\n",
    "            torch.FloatTensor(self.r[idx]),\n",
    "            torch.FloatTensor(self.s_[idx]),\n",
    "            torch.FloatTensor(self.done[idx])\n",
    "        )\n"
   ]
  },
  {
   "cell_type": "markdown",
   "id": "a5f9485e",
   "metadata": {},
   "source": [
    "# DQN model"
   ]
  },
  {
   "cell_type": "code",
   "execution_count": null,
   "id": "3ae0e4f9",
   "metadata": {},
   "outputs": [],
   "source": [
    "class DQN(torch.nn.Module):\n",
    "    def __init__(self, input_dim=11, output_dim=3):\n",
    "        super(DQN, self).__init__()\n",
    "        self.fc1 = torch.nn.Linear(input_dim, 128)\n",
    "        self.fc2 = torch.nn.Linear(128, 64)\n",
    "        self.out = torch.nn.Linear(64, output_dim)\n",
    "\n",
    "    def forward(self, x):\n",
    "        x = F.relu(self.fc1(x))\n",
    "        x = F.relu(self.fc2(x))\n",
    "        return self.out(x)"
   ]
  },
  {
   "cell_type": "markdown",
   "id": "68162a67",
   "metadata": {},
   "source": [
    "# Agent"
   ]
  },
  {
   "cell_type": "code",
   "execution_count": null,
   "id": "0fae01da",
   "metadata": {},
   "outputs": [],
   "source": [
    "import os\n",
    "folder = \"DQN_model/\"\n",
    "\n",
    "if not os.path.exists(folder):\n",
    "    os.makedirs(folder)"
   ]
  },
  {
   "cell_type": "code",
   "execution_count": null,
   "id": "b3263c95",
   "metadata": {},
   "outputs": [],
   "source": [
    "class DQNAgent:\n",
    "    def __init__(self, gamma=0.9, eps_low=0.05, lr=1e-3):\n",
    "        self.env = SnakeEnv()\n",
    "        self.n_act = self.env.action_space.n\n",
    "        self.model = DQN(output_dim=self.n_act).to(device)\n",
    "        self.target_model = DQN(output_dim=self.n_act).to(device)\n",
    "        self.target_model.load_state_dict(self.model.state_dict())\n",
    "\n",
    "        self.optimizer = torch.optim.Adam(self.model.parameters(), lr=lr)\n",
    "        self.loss_fn = torch.nn.SmoothL1Loss()\n",
    "        self.rb = ReplayBuffer()\n",
    "        self.gamma = gamma\n",
    "        self.eps_low = eps_low\n",
    "        self.steps = 0\n",
    "        self.log = {\"TrainReward\": [], \"TestReward\": [], \"Loss\": []}\n",
    "\n",
    "    def predict(self, state):\n",
    "        state = torch.FloatTensor(state).unsqueeze(0).to(device)\n",
    "        with torch.no_grad():\n",
    "            return self.model(state).argmax().item()\n",
    "\n",
    "    def select_action(self, state, eps):\n",
    "        if random.random() < eps:\n",
    "            return random.randint(0, self.n_act - 1)\n",
    "        return self.predict(state)\n",
    "\n",
    "    def learn(self, batch_size=64):\n",
    "        s, a, r, s_, done = self.rb.sample(batch_size)\n",
    "        s, a, r, s_, done = s.to(device), a.to(device), r.to(device), s_.to(device), done.to(device)\n",
    "\n",
    "        q_pred = self.model(s).gather(1, a.unsqueeze(1)).squeeze()\n",
    "        with torch.no_grad():\n",
    "            q_next = self.target_model(s_).max(1)[0]  # ← 標準 DQN 的 target 計算方式\n",
    "            q_target = r + self.gamma * q_next * (1 - done)\n",
    "\n",
    "        loss = self.loss_fn(q_pred, q_target)\n",
    "        self.optimizer.zero_grad()\n",
    "        loss.backward()\n",
    "        self.optimizer.step()\n",
    "\n",
    "        self.log[\"Loss\"].append(loss.item())\n",
    "\n",
    "    def train(self, N_EPISODES=500):\n",
    "        for ep in tqdm(range(N_EPISODES)):\n",
    "            state = self.env.reset()\n",
    "            done = False\n",
    "            total_reward = 0\n",
    "            eps = self.eps_low + (1.0 - self.eps_low) * math.exp(-ep / 100)\n",
    "\n",
    "            while not done:\n",
    "                action = self.select_action(state, eps)\n",
    "                next_state, reward, done, info = self.env.step(action)\n",
    "                self.rb.append(state, action, reward, next_state, float(done))\n",
    "                state = next_state\n",
    "                total_reward += reward\n",
    "\n",
    "                self.steps += 1\n",
    "                if self.rb.size > 500:\n",
    "                    self.learn()\n",
    "\n",
    "                if self.steps % 200 == 0:\n",
    "                    self.target_model.load_state_dict(self.model.state_dict())\n",
    "\n",
    "            self.log[\"TrainReward\"].append(total_reward)\n",
    "\n",
    "            if ep % 20 == 0:\n",
    "                test_reward = self.test()\n",
    "                self.log[\"TestReward\"].append(test_reward)\n",
    "                print(f\"\\nEpisode {ep}: Train Reward = {total_reward}, Test Reward = {test_reward}\")\n",
    "                torch.save(self.model.state_dict(), f\"{folder}snake_model_{ep}.pt\")\n",
    "\n",
    "    def test(self, render=False):\n",
    "        state = self.env.reset()\n",
    "        done = False\n",
    "        total_reward = 0\n",
    "        while not done:\n",
    "            if render:\n",
    "                self.env.render()\n",
    "            action = self.predict(state)\n",
    "            state, reward, done, _ = self.env.step(action)\n",
    "            total_reward += reward\n",
    "        return total_reward\n"
   ]
  },
  {
   "cell_type": "markdown",
   "id": "5d7efb32",
   "metadata": {},
   "source": [
    "# train"
   ]
  },
  {
   "cell_type": "code",
   "execution_count": null,
   "id": "67994ff4",
   "metadata": {},
   "outputs": [
    {
     "name": "stderr",
     "output_type": "stream",
     "text": [
      "  0%|          | 1/1000 [00:05<1:38:48,  5.93s/it]"
     ]
    },
    {
     "name": "stdout",
     "output_type": "stream",
     "text": [
      "\n",
      "Episode 0: Train Reward = -10, Test Reward = -10\n"
     ]
    },
    {
     "name": "stderr",
     "output_type": "stream",
     "text": [
      "  2%|▏         | 21/1000 [01:19<2:25:11,  8.90s/it]"
     ]
    },
    {
     "name": "stdout",
     "output_type": "stream",
     "text": [
      "\n",
      "Episode 20: Train Reward = -10, Test Reward = 110\n"
     ]
    },
    {
     "name": "stderr",
     "output_type": "stream",
     "text": [
      "  4%|▍         | 41/1000 [02:28<1:48:44,  6.80s/it]"
     ]
    },
    {
     "name": "stdout",
     "output_type": "stream",
     "text": [
      "\n",
      "Episode 40: Train Reward = -10, Test Reward = 160\n"
     ]
    },
    {
     "name": "stderr",
     "output_type": "stream",
     "text": [
      "  6%|▌         | 61/1000 [03:28<1:32:00,  5.88s/it]"
     ]
    },
    {
     "name": "stdout",
     "output_type": "stream",
     "text": [
      "\n",
      "Episode 60: Train Reward = 0, Test Reward = 0\n"
     ]
    },
    {
     "name": "stderr",
     "output_type": "stream",
     "text": [
      "  7%|▋         | 71/1000 [03:53<43:22,  2.80s/it]  "
     ]
    }
   ],
   "source": [
    "agent = DQNAgent(gamma=0.9, eps_low=0.05, lr=1e-3)\n",
    "agent.train(N_EPISODES=1000)"
   ]
  },
  {
   "cell_type": "code",
   "execution_count": null,
   "id": "2f7e2a55",
   "metadata": {},
   "outputs": [],
   "source": [
    "agent.test(render=True)"
   ]
  }
 ],
 "metadata": {
  "kernelspec": {
   "display_name": "Python 3",
   "language": "python",
   "name": "python3"
  },
  "language_info": {
   "codemirror_mode": {
    "name": "ipython",
    "version": 3
   },
   "file_extension": ".py",
   "mimetype": "text/x-python",
   "name": "python",
   "nbconvert_exporter": "python",
   "pygments_lexer": "ipython3",
   "version": "3.10.11"
  }
 },
 "nbformat": 4,
 "nbformat_minor": 5
}
